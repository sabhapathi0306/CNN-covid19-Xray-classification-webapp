{
 "cells": [
  {
   "cell_type": "code",
   "execution_count": 5,
   "metadata": {},
   "outputs": [],
   "source": [
    "#LIBRARIES\n",
    "import os\n",
    "from matplotlib import pyplot as plt\n",
    "import matplotlib.image as mpimg\n",
    "from PIL import Image\n",
    "import random\n",
    "import cv2\n",
    "from sklearn.neural_network import MLPClassifier\n",
    "from sklearn.metrics import confusion_matrix"
   ]
  },
  {
   "cell_type": "markdown",
   "metadata": {},
   "source": [
    "## LABELING THE DATA"
   ]
  },
  {
   "cell_type": "code",
   "execution_count": 6,
   "metadata": {},
   "outputs": [],
   "source": [
    "#train_labelling\n",
    "DIR = 'C:/Users/adith/Desktop/biotech/AI/ML/New folder/train'\n",
    "CATE = [\"NORMAL\",\"POSITIVE\",\"ERROR\"]\n",
    "IMG_size = 80\n",
    "train_data = []\n",
    "def creat_tarin_labeling():\n",
    "    for cate in CATE:\n",
    "        path = os.path.join(DIR,cate)\n",
    "        Class_num = CATE.index(cate)#labelling\n",
    "        for img in os.listdir(path):\n",
    "            img_arr = cv2.imread(os.path.join(path,img),cv2.IMREAD_GRAYSCALE)\n",
    "            new_array = cv2.resize(img_arr,(IMG_size,IMG_size))\n",
    "            train_data.append([new_array,Class_num])\n",
    "creat_tarin_labeling()"
   ]
  },
  {
   "cell_type": "code",
   "execution_count": 7,
   "metadata": {},
   "outputs": [],
   "source": [
    "#shuffeling train datasets\n",
    "import random #for shuffeling\n",
    "random.shuffle(train_data)"
   ]
  },
  {
   "cell_type": "markdown",
   "metadata": {},
   "source": [
    "## LOADING"
   ]
  },
  {
   "cell_type": "code",
   "execution_count": 8,
   "metadata": {},
   "outputs": [
    {
     "name": "stdout",
     "output_type": "stream",
     "text": [
      "(518, 80, 80, 1)\n",
      "(518,)\n"
     ]
    }
   ],
   "source": [
    "#LOADING\n",
    "import numpy as np\n",
    "X_train = []\n",
    "y_train= []\n",
    "for fe,la in train_data:\n",
    "    X_train.append(fe)\n",
    "    y_train.append(la)\n",
    "\n",
    "X_train = np.array(X_train).reshape(-1,IMG_size,IMG_size,1)\n",
    "y_train= np.array(y_train)\n",
    "print(X_train.shape)\n",
    "print(y_train.shape)"
   ]
  },
  {
   "cell_type": "markdown",
   "metadata": {},
   "source": [
    "## MLP CLASSIFIER"
   ]
  },
  {
   "cell_type": "code",
   "execution_count": 9,
   "metadata": {},
   "outputs": [],
   "source": [
    "c = MLPClassifier(solver = \"adam\",activation= \"relu\",hidden_layer_sizes = (64,64))"
   ]
  },
  {
   "cell_type": "markdown",
   "metadata": {},
   "source": [
    "## TRAIN_TEST_SPLIT METHOD"
   ]
  },
  {
   "cell_type": "code",
   "execution_count": 10,
   "metadata": {},
   "outputs": [],
   "source": [
    "from sklearn.model_selection import train_test_split\n",
    "x_train,x_test,y_train,y_test = train_test_split(X_train,y_train,test_size = 0.2)"
   ]
  },
  {
   "cell_type": "code",
   "execution_count": 11,
   "metadata": {},
   "outputs": [
    {
     "name": "stdout",
     "output_type": "stream",
     "text": [
      "[0.028 0.08  0.132 ... 0.016 0.    0.   ]\n"
     ]
    }
   ],
   "source": [
    "X_train = x_train.reshape(-1,80*80)\n",
    "X_train= X_train/250\n",
    "print(X_train[0])"
   ]
  },
  {
   "cell_type": "code",
   "execution_count": 12,
   "metadata": {},
   "outputs": [
    {
     "data": {
      "text/plain": [
       "MLPClassifier(hidden_layer_sizes=(64, 64))"
      ]
     },
     "execution_count": 12,
     "metadata": {},
     "output_type": "execute_result"
    }
   ],
   "source": [
    "c.fit(X_train,y_train)"
   ]
  },
  {
   "cell_type": "code",
   "execution_count": 13,
   "metadata": {},
   "outputs": [],
   "source": [
    "X_test = x_test.reshape(-1,80*80)\n",
    "X_test = X_test/250"
   ]
  },
  {
   "cell_type": "markdown",
   "metadata": {},
   "source": [
    "## PREDICTIONS"
   ]
  },
  {
   "cell_type": "code",
   "execution_count": 14,
   "metadata": {},
   "outputs": [],
   "source": [
    "pred  = c.predict(X_test)"
   ]
  },
  {
   "cell_type": "code",
   "execution_count": 15,
   "metadata": {},
   "outputs": [
    {
     "data": {
      "text/plain": [
       "array([0, 0, 1, 1, 0, 1, 0, 1, 1, 2, 1, 1, 1, 1, 0, 0, 0, 0, 1, 1, 1, 1,\n",
       "       1, 1, 0, 1, 2, 0, 1, 0, 1, 1, 1, 1, 1, 1, 0, 1, 0, 1, 1, 1, 2, 0,\n",
       "       1, 1, 0, 1, 0, 1, 1, 1, 1, 0, 0, 0, 1, 0, 1, 1, 1, 2, 1, 1, 1, 1,\n",
       "       0, 1, 0, 1, 1, 0, 1, 0, 1, 1, 0, 2, 1, 2, 1, 1, 1, 1, 0, 0, 1, 1,\n",
       "       0, 1, 1, 0, 1, 1, 0, 2, 1, 1, 0, 1, 1, 0, 0, 1])"
      ]
     },
     "execution_count": 15,
     "metadata": {},
     "output_type": "execute_result"
    }
   ],
   "source": [
    "pred"
   ]
  },
  {
   "cell_type": "code",
   "execution_count": 16,
   "metadata": {},
   "outputs": [
    {
     "data": {
      "text/plain": [
       "array([0, 0, 1, 1, 1, 1, 0, 1, 1, 2, 1, 1, 1, 1, 0, 0, 0, 0, 1, 1, 1, 1,\n",
       "       1, 1, 0, 1, 2, 0, 1, 0, 1, 1, 1, 1, 1, 1, 0, 1, 0, 1, 1, 1, 2, 0,\n",
       "       1, 1, 0, 1, 0, 1, 1, 1, 1, 0, 0, 0, 1, 0, 1, 1, 1, 2, 1, 1, 1, 1,\n",
       "       0, 1, 0, 1, 1, 0, 1, 0, 1, 1, 0, 2, 1, 2, 1, 1, 1, 1, 0, 0, 1, 1,\n",
       "       0, 1, 1, 0, 1, 1, 0, 2, 1, 1, 0, 1, 1, 0, 0, 1])"
      ]
     },
     "execution_count": 16,
     "metadata": {},
     "output_type": "execute_result"
    }
   ],
   "source": [
    "y_test\n"
   ]
  },
  {
   "cell_type": "markdown",
   "metadata": {},
   "source": [
    "## ACCURACY"
   ]
  },
  {
   "cell_type": "code",
   "execution_count": 17,
   "metadata": {},
   "outputs": [],
   "source": [
    "acc = confusion_matrix(y_test,pred)\n",
    "def accu(cc):\n",
    "    di = cc.trace()\n",
    "    ele = cc.sum()\n",
    "    return di/ele"
   ]
  },
  {
   "cell_type": "code",
   "execution_count": 18,
   "metadata": {},
   "outputs": [
    {
     "name": "stdout",
     "output_type": "stream",
     "text": [
      "99.04\n"
     ]
    }
   ],
   "source": [
    "a = accu(acc) * 100\n",
    "print(round(a,2))"
   ]
  },
  {
   "cell_type": "code",
   "execution_count": 19,
   "metadata": {},
   "outputs": [
    {
     "name": "stdout",
     "output_type": "stream",
     "text": [
      "              precision    recall  f1-score   support\n",
      "\n",
      "           0       1.00      0.97      0.98        33\n",
      "           1       0.98      1.00      0.99        64\n",
      "           2       1.00      1.00      1.00         7\n",
      "\n",
      "    accuracy                           0.99       104\n",
      "   macro avg       0.99      0.99      0.99       104\n",
      "weighted avg       0.99      0.99      0.99       104\n",
      "\n"
     ]
    }
   ],
   "source": [
    "from sklearn.metrics import classification_report\n",
    "\n",
    "print(classification_report(pred,y_test))"
   ]
  },
  {
   "cell_type": "markdown",
   "metadata": {},
   "source": [
    "## testing "
   ]
  },
  {
   "cell_type": "code",
   "execution_count": 20,
   "metadata": {},
   "outputs": [],
   "source": [
    "# read the testing image"
   ]
  },
  {
   "cell_type": "markdown",
   "metadata": {},
   "source": [
    "### testing for other than x_ray image"
   ]
  },
  {
   "cell_type": "code",
   "execution_count": 34,
   "metadata": {},
   "outputs": [],
   "source": [
    "# see uploaded images\n",
    "import cv2\n",
    "path = \"er7.jpg\"\n",
    "image = cv2.imread(path)\n",
    "cv2.imshow(\"ERR\", image)\n",
    "cv2.waitKey(0)\n",
    "cv2.destroyAllWindows()"
   ]
  },
  {
   "cell_type": "code",
   "execution_count": 23,
   "metadata": {},
   "outputs": [],
   "source": [
    "img_arr = cv2.imread(path,cv2.IMREAD_GRAYSCALE)\n",
    "\n",
    "new_array = cv2.resize(img_arr,(IMG_size,IMG_size))"
   ]
  },
  {
   "cell_type": "code",
   "execution_count": 24,
   "metadata": {},
   "outputs": [
    {
     "name": "stdout",
     "output_type": "stream",
     "text": [
      "prediction probability 95.18%\n"
     ]
    },
    {
     "data": {
      "text/plain": [
       "'PLEASE UPLOAD CORRECT X_RAY IMAGE'"
      ]
     },
     "execution_count": 24,
     "metadata": {},
     "output_type": "execute_result"
    }
   ],
   "source": [
    "from sklearn.metrics import accuracy_score\n",
    "def prob(r):\n",
    "    pred = c.predict_proba(r)\n",
    "    pred_prob = max(max(pred))\n",
    "    return pred_prob\n",
    "\n",
    "def predictions(a):\n",
    "    x = new_array.reshape((-1,80*80))\n",
    "    result= x/256\n",
    "    pre = c.predict(result)\n",
    "    rr = prob(result)\n",
    "    RR = float(rr)*100\n",
    "    print(\"prediction probability\" ,\"{0:.2f}\".format(RR)+\"%\")\n",
    "    if(pre==1):\n",
    "        return \"RESULT IS POSITIVE\"\n",
    "    elif(pre == 0):\n",
    "        return \"RESULT IS NEGATIVE\"\n",
    "    else:\n",
    "        return \"PLEASE UPLOAD CORRECT X_RAY IMAGE\"\n",
    "\n",
    "\n",
    "predictions(new_array)\n"
   ]
  },
  {
   "cell_type": "markdown",
   "metadata": {},
   "source": [
    "### testing for X_RAY images"
   ]
  },
  {
   "cell_type": "code",
   "execution_count": 39,
   "metadata": {},
   "outputs": [],
   "source": [
    "#see uploaded image\n",
    "path = \"positive.png\"\n",
    "image = cv2.imread(path)\n",
    "cv2.imshow(\"ERR\", image)\n",
    "cv2.waitKey(0)\n",
    "cv2.destroyAllWindows()"
   ]
  },
  {
   "cell_type": "code",
   "execution_count": 40,
   "metadata": {},
   "outputs": [],
   "source": [
    "img_arr = cv2.imread(path,cv2.IMREAD_GRAYSCALE)\n",
    "\n",
    "new_array = cv2.resize(img_arr,(IMG_size,IMG_size))"
   ]
  },
  {
   "cell_type": "code",
   "execution_count": 41,
   "metadata": {},
   "outputs": [
    {
     "name": "stdout",
     "output_type": "stream",
     "text": [
      "prediction probability 99.88%\n"
     ]
    },
    {
     "data": {
      "text/plain": [
       "'RESULT IS POSITIVE'"
      ]
     },
     "execution_count": 41,
     "metadata": {},
     "output_type": "execute_result"
    }
   ],
   "source": [
    "from sklearn.metrics import accuracy_score\n",
    "def prob(r):\n",
    "    pred = c.predict_proba(r)\n",
    "    pred_prob = max(max(pred))\n",
    "    return pred_prob\n",
    "\n",
    "def predictions(a):\n",
    "    x = new_array.reshape((-1,80*80))\n",
    "    result= x/256\n",
    "    pre = c.predict(result)\n",
    "    rr = prob(result)\n",
    "    RR = float(rr)*100\n",
    "    print(\"prediction probability\" ,\"{0:.2f}\".format(RR)+\"%\")\n",
    "    if(pre==1):\n",
    "        return \"RESULT IS POSITIVE\"\n",
    "    elif(pre == 0):\n",
    "        return \"RESULT IS NEGATIVE\"\n",
    "    else:\n",
    "        return \"PLEASE UPLOAD CORRECT X_RAY IMAGE\"\n",
    "\n",
    "\n",
    "predictions(new_array)"
   ]
  },
  {
   "cell_type": "code",
   "execution_count": 30,
   "metadata": {},
   "outputs": [],
   "source": [
    "#see uploaded image\n",
    "path = \"normal.jpeg\"\n",
    "image = cv2.imread(path)\n",
    "cv2.imshow(\"ERR\", image)\n",
    "cv2.waitKey(0)\n",
    "cv2.destroyAllWindows()"
   ]
  },
  {
   "cell_type": "code",
   "execution_count": 31,
   "metadata": {},
   "outputs": [],
   "source": [
    "img_arr = cv2.imread(path,cv2.IMREAD_GRAYSCALE)\n",
    "\n",
    "new_array = cv2.resize(img_arr,(IMG_size,IMG_size))"
   ]
  },
  {
   "cell_type": "code",
   "execution_count": 32,
   "metadata": {},
   "outputs": [
    {
     "name": "stdout",
     "output_type": "stream",
     "text": [
      "prediction probability 99.90%\n"
     ]
    },
    {
     "data": {
      "text/plain": [
       "'RESULT IS NEGATIVE'"
      ]
     },
     "execution_count": 32,
     "metadata": {},
     "output_type": "execute_result"
    }
   ],
   "source": [
    "from sklearn.metrics import accuracy_score\n",
    "def prob(r):\n",
    "    pred = c.predict_proba(r)\n",
    "    pred_prob = max(max(pred))\n",
    "    return pred_prob\n",
    "\n",
    "def predictions(a):\n",
    "    x = new_array.reshape((-1,80*80))\n",
    "    result= x/256\n",
    "    pre = c.predict(result)\n",
    "    rr = prob(result)\n",
    "    RR = float(rr)*100\n",
    "    print(\"prediction probability\" ,\"{0:.2f}\".format(RR)+\"%\")\n",
    "    if(pre==1):\n",
    "        return \"RESULT IS POSITIVE\"\n",
    "    elif(pre == 0):\n",
    "        return \"RESULT IS NEGATIVE\"\n",
    "    else:\n",
    "        return \"PLEASE UPLOAD CORRECT X_RAY IMAGE\"\n",
    "\n",
    "\n",
    "predictions(new_array)"
   ]
  },
  {
   "cell_type": "code",
   "execution_count": null,
   "metadata": {},
   "outputs": [],
   "source": []
  },
  {
   "cell_type": "code",
   "execution_count": null,
   "metadata": {},
   "outputs": [],
   "source": []
  },
  {
   "cell_type": "code",
   "execution_count": null,
   "metadata": {},
   "outputs": [],
   "source": []
  },
  {
   "cell_type": "code",
   "execution_count": null,
   "metadata": {},
   "outputs": [],
   "source": []
  }
 ],
 "metadata": {
  "kernelspec": {
   "display_name": "Python 3",
   "language": "python",
   "name": "python3"
  },
  "language_info": {
   "codemirror_mode": {
    "name": "ipython",
    "version": 3
   },
   "file_extension": ".py",
   "mimetype": "text/x-python",
   "name": "python",
   "nbconvert_exporter": "python",
   "pygments_lexer": "ipython3",
   "version": "3.8.3"
  }
 },
 "nbformat": 4,
 "nbformat_minor": 4
}
